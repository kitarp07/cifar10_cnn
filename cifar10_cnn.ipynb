{
  "nbformat": 4,
  "nbformat_minor": 0,
  "metadata": {
    "colab": {
      "provenance": [],
      "authorship_tag": "ABX9TyNmmsiwTK0RlkKb3EzG/rSr",
      "include_colab_link": true
    },
    "kernelspec": {
      "name": "python3",
      "display_name": "Python 3"
    },
    "language_info": {
      "name": "python"
    }
  },
  "cells": [
    {
      "cell_type": "markdown",
      "metadata": {
        "id": "view-in-github",
        "colab_type": "text"
      },
      "source": [
        "<a href=\"https://colab.research.google.com/github/kitarp07/cifar10_cnn/blob/main/cifar10_cnn.ipynb\" target=\"_parent\"><img src=\"https://colab.research.google.com/assets/colab-badge.svg\" alt=\"Open In Colab\"/></a>"
      ]
    },
    {
      "cell_type": "code",
      "execution_count": null,
      "metadata": {
        "id": "sCUEUVf-rmxO"
      },
      "outputs": [],
      "source": [
        "import tensorflow as tf\n",
        "from tensorflow.keras.datasets import cifar10"
      ]
    },
    {
      "cell_type": "code",
      "source": [
        "\n",
        " (x_train, y_train), (x_test, y_test) = cifar10.load_data()"
      ],
      "metadata": {
        "id": "sHhRRA4tsKZ7"
      },
      "execution_count": null,
      "outputs": []
    },
    {
      "cell_type": "code",
      "source": [
        "x_train[0]"
      ],
      "metadata": {
        "colab": {
          "base_uri": "https://localhost:8080/"
        },
        "id": "PrnICSgqsgJl",
        "outputId": "15d4683e-19a6-45ac-f843-f164fab840cc"
      },
      "execution_count": null,
      "outputs": [
        {
          "output_type": "execute_result",
          "data": {
            "text/plain": [
              "array([[[ 59,  62,  63],\n",
              "        [ 43,  46,  45],\n",
              "        [ 50,  48,  43],\n",
              "        ...,\n",
              "        [158, 132, 108],\n",
              "        [152, 125, 102],\n",
              "        [148, 124, 103]],\n",
              "\n",
              "       [[ 16,  20,  20],\n",
              "        [  0,   0,   0],\n",
              "        [ 18,   8,   0],\n",
              "        ...,\n",
              "        [123,  88,  55],\n",
              "        [119,  83,  50],\n",
              "        [122,  87,  57]],\n",
              "\n",
              "       [[ 25,  24,  21],\n",
              "        [ 16,   7,   0],\n",
              "        [ 49,  27,   8],\n",
              "        ...,\n",
              "        [118,  84,  50],\n",
              "        [120,  84,  50],\n",
              "        [109,  73,  42]],\n",
              "\n",
              "       ...,\n",
              "\n",
              "       [[208, 170,  96],\n",
              "        [201, 153,  34],\n",
              "        [198, 161,  26],\n",
              "        ...,\n",
              "        [160, 133,  70],\n",
              "        [ 56,  31,   7],\n",
              "        [ 53,  34,  20]],\n",
              "\n",
              "       [[180, 139,  96],\n",
              "        [173, 123,  42],\n",
              "        [186, 144,  30],\n",
              "        ...,\n",
              "        [184, 148,  94],\n",
              "        [ 97,  62,  34],\n",
              "        [ 83,  53,  34]],\n",
              "\n",
              "       [[177, 144, 116],\n",
              "        [168, 129,  94],\n",
              "        [179, 142,  87],\n",
              "        ...,\n",
              "        [216, 184, 140],\n",
              "        [151, 118,  84],\n",
              "        [123,  92,  72]]], dtype=uint8)"
            ]
          },
          "metadata": {},
          "execution_count": 4
        }
      ]
    },
    {
      "cell_type": "code",
      "source": [
        "y_train[0]"
      ],
      "metadata": {
        "colab": {
          "base_uri": "https://localhost:8080/"
        },
        "id": "XTEkziB4si1V",
        "outputId": "4ec41e96-fa53-4332-bd20-2777f2b84788"
      },
      "execution_count": null,
      "outputs": [
        {
          "output_type": "execute_result",
          "data": {
            "text/plain": [
              "array([6], dtype=uint8)"
            ]
          },
          "metadata": {},
          "execution_count": 5
        }
      ]
    },
    {
      "cell_type": "code",
      "source": [
        "x_train.shape, y_train.shape"
      ],
      "metadata": {
        "colab": {
          "base_uri": "https://localhost:8080/"
        },
        "id": "lgw_ZYsaskVk",
        "outputId": "5f637f82-36f4-40bd-8095-b5c1e06ce5a8"
      },
      "execution_count": null,
      "outputs": [
        {
          "output_type": "execute_result",
          "data": {
            "text/plain": [
              "((50000, 32, 32, 3), (50000, 1))"
            ]
          },
          "metadata": {},
          "execution_count": 6
        }
      ]
    },
    {
      "cell_type": "code",
      "source": [
        "x_test.shape"
      ],
      "metadata": {
        "colab": {
          "base_uri": "https://localhost:8080/"
        },
        "id": "CxPaAZ1Nst5L",
        "outputId": "ac89504f-225e-4f4d-8bda-487ec183bd15"
      },
      "execution_count": null,
      "outputs": [
        {
          "output_type": "execute_result",
          "data": {
            "text/plain": [
              "(10000, 32, 32, 3)"
            ]
          },
          "metadata": {},
          "execution_count": 7
        }
      ]
    },
    {
      "cell_type": "code",
      "source": [
        "\n",
        "x_train = x_train.astype(\"float32\")\n",
        "x_test = x_test.astype(\"float32\")\n",
        "y_train = y_train.astype(\"float32\")\n",
        "\n",
        "y_test = y_test.astype(\"float32\")\n"
      ],
      "metadata": {
        "id": "rvux3O1Ys5X-"
      },
      "execution_count": null,
      "outputs": []
    },
    {
      "cell_type": "code",
      "source": [
        "x_train.min(), x_train.max()"
      ],
      "metadata": {
        "colab": {
          "base_uri": "https://localhost:8080/"
        },
        "id": "9QQKi8hxtIC9",
        "outputId": "3d6dda08-00d2-4ffd-feff-bb9384601191"
      },
      "execution_count": null,
      "outputs": [
        {
          "output_type": "execute_result",
          "data": {
            "text/plain": [
              "(0.0, 255.0)"
            ]
          },
          "metadata": {},
          "execution_count": 9
        }
      ]
    },
    {
      "cell_type": "code",
      "source": [
        "x_train = x_train/ 255.0\n",
        "x_test = x_test/255.0"
      ],
      "metadata": {
        "id": "Jf17Hi26tXB7"
      },
      "execution_count": null,
      "outputs": []
    },
    {
      "cell_type": "code",
      "source": [
        "x_train.max(), x_train.min()"
      ],
      "metadata": {
        "colab": {
          "base_uri": "https://localhost:8080/"
        },
        "id": "JOvCSwpUtfHy",
        "outputId": "5c84c9ee-2517-4bad-adb5-c9d61345a790"
      },
      "execution_count": null,
      "outputs": [
        {
          "output_type": "execute_result",
          "data": {
            "text/plain": [
              "(1.0, 0.0)"
            ]
          },
          "metadata": {},
          "execution_count": 11
        }
      ]
    },
    {
      "cell_type": "code",
      "source": [
        "import matplotlib.pyplot as plt\n",
        "import matplotlib.colors as colors\n",
        "import numpy as np\n"
      ],
      "metadata": {
        "id": "DxbOdeT6tkmE"
      },
      "execution_count": null,
      "outputs": []
    },
    {
      "cell_type": "code",
      "source": [
        "classes = [\"airplane\", \"automobile\", \"bird\", \"cat\", \"deer\", \"dog\", \"frog\", \"horse\", \"ship\", \"truck\"]"
      ],
      "metadata": {
        "id": "Naz4_iDVt7QX"
      },
      "execution_count": null,
      "outputs": []
    },
    {
      "cell_type": "code",
      "source": [
        "index = 5\n",
        "plt.imshow(x_train[index\n",
        "])\n",
        "y_train_temp = y_train.astype(int)\n",
        "y_train_temp = np.squeeze(y_train_temp)\n",
        "\n",
        "classes[y_train_temp[index]]"
      ],
      "metadata": {
        "colab": {
          "base_uri": "https://localhost:8080/",
          "height": 449
        },
        "id": "ddi0yI4Py-2A",
        "outputId": "805ba867-c67c-402e-8df2-9aaede2ad328"
      },
      "execution_count": null,
      "outputs": [
        {
          "output_type": "execute_result",
          "data": {
            "text/plain": [
              "'automobile'"
            ],
            "application/vnd.google.colaboratory.intrinsic+json": {
              "type": "string"
            }
          },
          "metadata": {},
          "execution_count": 14
        },
        {
          "output_type": "display_data",
          "data": {
            "text/plain": [
              "<Figure size 640x480 with 1 Axes>"
            ],
            "image/png": "[encoded data removed]"
          },
          "metadata": {}
        }
      ]
    },
    {
      "cell_type": "code",
      "source": [
        "\n",
        "tf.random.set_seed(42)\n",
        "\n",
        "model = tf.keras.Sequential([\n",
        "    tf.keras.Input(shape=(32, 32, 3)),\n",
        "    tf.keras.layers.Conv2D(16, 3, padding='same', kernel_regularizer = tf.keras.regularizers.l2(0.01), activation='relu'),\n",
        "    tf.keras.layers.BatchNormalization(),\n",
        "    tf.keras.layers.MaxPooling2D(pool_size=(2,2)),\n",
        "    tf.keras.layers.Conv2D(16, 3,kernel_regularizer = tf.keras.regularizers.l2(0.01),  activation='relu'),\n",
        "    tf.keras.layers.BatchNormalization(),\n",
        "    tf.keras.layers.MaxPooling2D(),\n",
        "    tf.keras.layers.Conv2D(16, 3, padding='same',kernel_regularizer = tf.keras.regularizers.l2(0.01), activation='relu'),\n",
        "    tf.keras.layers.BatchNormalization(),\n",
        "    tf.keras.layers.Flatten(),\n",
        "    tf.keras.layers.Dense(16, kernel_regularizer = tf.keras.regularizers.l2(0.01), activation='relu'),\n",
        "    tf.keras.layers.Dropout(0.5),\n",
        "    tf.keras.layers.Dense(10, activation=\"softmax\")\n",
        "])\n",
        "\n",
        "model.compile(\n",
        "    loss = tf.keras.losses.SparseCategoricalCrossentropy(),\n",
        "    optimizer = tf.keras.optimizers.Adam(learning_rate= 0.002),\n",
        "    metrics=[\"accuracy\"]\n",
        ")\n",
        "lr_scheduler = tf.keras.callbacks.LearningRateScheduler(lambda epoch: 1e-3 * 10 **(epoch/20))\n",
        "\n",
        "\n",
        "history = model.fit(x_train, y_train, epochs=10, validation_data=(x_test, y_test))"
      ],
      "metadata": {
        "colab": {
          "base_uri": "https://localhost:8080/"
        },
        "id": "meG5G-0bzGrr",
        "outputId": "c91c4cc9-cae7-4710-8b2f-4c36575c1c69"
      },
      "execution_count": null,
      "outputs": [
        {
          "output_type": "stream",
          "name": "stdout",
          "text": [
            "Epoch 1/10\n",
            "1563/1563 [==============================] - 39s 24ms/step - loss: 2.1488 - accuracy: 0.2737 - val_loss: 1.8636 - val_accuracy: 0.3579\n",
            "Epoch 2/10\n",
            "1563/1563 [==============================] - 38s 24ms/step - loss: 1.8004 - accuracy: 0.3953 - val_loss: 2.1885 - val_accuracy: 0.2961\n",
            "Epoch 3/10\n",
            "1563/1563 [==============================] - 37s 24ms/step - loss: 1.7471 - accuracy: 0.4179 - val_loss: 1.6561 - val_accuracy: 0.4774\n",
            "Epoch 4/10\n",
            "1563/1563 [==============================] - 37s 24ms/step - loss: 1.7290 - accuracy: 0.4339 - val_loss: 1.9007 - val_accuracy: 0.4077\n",
            "Epoch 5/10\n",
            "1563/1563 [==============================] - 37s 24ms/step - loss: 1.7131 - accuracy: 0.4395 - val_loss: 2.1601 - val_accuracy: 0.3645\n",
            "Epoch 6/10\n",
            "1563/1563 [==============================] - 37s 24ms/step - loss: 1.7102 - accuracy: 0.4441 - val_loss: 1.5350 - val_accuracy: 0.5260\n",
            "Epoch 7/10\n",
            "1563/1563 [==============================] - 37s 24ms/step - loss: 1.6960 - accuracy: 0.4475 - val_loss: 1.4903 - val_accuracy: 0.5460\n",
            "Epoch 8/10\n",
            "1563/1563 [==============================] - 37s 24ms/step - loss: 1.6884 - accuracy: 0.4502 - val_loss: 1.5774 - val_accuracy: 0.5279\n",
            "Epoch 9/10\n",
            "1563/1563 [==============================] - 37s 24ms/step - loss: 1.6818 - accuracy: 0.4495 - val_loss: 1.8330 - val_accuracy: 0.4458\n",
            "Epoch 10/10\n",
            "1563/1563 [==============================] - 38s 24ms/step - loss: 1.6825 - accuracy: 0.4542 - val_loss: 1.9862 - val_accuracy: 0.3834\n"
          ]
        }
      ]
    },
    {
      "cell_type": "code",
      "source": [
        "import pandas as pd\n",
        "import matplotlib.pyplot as plt\n",
        "\n",
        "pd.DataFrame(history.history).plot()"
      ],
      "metadata": {
        "colab": {
          "base_uri": "https://localhost:8080/",
          "height": 447
        },
        "id": "ZRWn096A25GQ",
        "outputId": "1f1eeee9-9f3a-4557-cc7a-b0f716a12702"
      },
      "execution_count": null,
      "outputs": [
        {
          "output_type": "execute_result",
          "data": {
            "text/plain": [
              "<Axes: >"
            ]
          },
          "metadata": {},
          "execution_count": 17
        },
        {
          "output_type": "display_data",
          "data": {
            "text/plain": [
              "<Figure size 640x480 with 1 Axes>"
            ],
            "image/png": "[encoded data removed]"
          },
          "metadata": {}
        }
      ]
    },
    {
      "cell_type": "code",
      "source": [
        "# plt.semilogx(history.history[\"lr\"], history.history[\"loss\"])\n",
        "# plt.xlabel(\" learning rate\")\n",
        "# plt.ylabel(\"loss\")\n",
        "# plt.title(\" lr vs loss \")"
      ],
      "metadata": {
        "id": "BhmI8y-95z67"
      },
      "execution_count": null,
      "outputs": []
    },
    {
      "cell_type": "code",
      "source": [
        "tf.random.set_seed(42)\n",
        "\n",
        "model2 = tf.keras.Sequential([\n",
        "    tf.keras.Input(shape=(32, 32, 3)),\n",
        "    tf.keras.layers.Conv2D(32, 3,padding='same', activation='relu'),\n",
        "    tf.keras.layers.Conv2D(32, 3,padding='same',  activation='relu'),\n",
        "    tf.keras.layers.MaxPooling2D(pool_size=(2,2)),\n",
        "\n",
        "    tf.keras.layers.Conv2D(32, 3, padding='same',   activation='relu'),\n",
        "    tf.keras.layers.Conv2D(32, 3, padding='same',  activation='relu'),\n",
        "    tf.keras.layers.MaxPooling2D(),\n",
        "    tf.keras.layers.Conv2D(32, 3, padding='same',  activation='relu'),\n",
        "    tf.keras.layers.Conv2D(32, 3, padding='same',  activation='relu'),\n",
        "\n",
        "    tf.keras.layers.MaxPooling2D(),\n",
        "    tf.keras.layers.Flatten(),\n",
        "    tf.keras.layers.Dense(32, activation='relu'),\n",
        "    tf.keras.layers.Dense(10, activation=\"softmax\")\n",
        "])\n",
        "\n",
        "model2.compile(\n",
        "    loss = tf.keras.losses.SparseCategoricalCrossentropy(),\n",
        "    optimizer = tf.keras.optimizers.Adam(),\n",
        "    metrics=[\"accuracy\"]\n",
        ")\n",
        "lr_scheduler = tf.keras.callbacks.LearningRateScheduler(lambda epoch: 1e-3 * 10 **(epoch/20))\n",
        "\n",
        "\n",
        "history2 = model2.fit(x_train, y_train, epochs=30)"
      ],
      "metadata": {
        "colab": {
          "base_uri": "https://localhost:8080/"
        },
        "id": "SvEetF0bAz77",
        "outputId": "85621e63-a057-4258-f05f-4f1ec16381b0"
      },
      "execution_count": null,
      "outputs": [
        {
          "output_type": "stream",
          "name": "stdout",
          "text": [
            "Epoch 1/30\n",
            "1563/1563 [==============================] - 149s 94ms/step - loss: 1.6186 - accuracy: 0.4040\n",
            "Epoch 2/30\n",
            "1563/1563 [==============================] - 147s 94ms/step - loss: 1.1580 - accuracy: 0.5844\n",
            "Epoch 3/30\n",
            "1563/1563 [==============================] - 146s 93ms/step - loss: 0.9747 - accuracy: 0.6536\n",
            "Epoch 4/30\n",
            "1563/1563 [==============================] - 148s 95ms/step - loss: 0.8702 - accuracy: 0.6908\n",
            "Epoch 5/30\n",
            "1563/1563 [==============================] - 150s 96ms/step - loss: 0.7935 - accuracy: 0.7188\n",
            "Epoch 6/30\n",
            "1563/1563 [==============================] - 148s 95ms/step - loss: 0.7322 - accuracy: 0.7418\n",
            "Epoch 7/30\n",
            "1563/1563 [==============================] - 146s 93ms/step - loss: 0.6838 - accuracy: 0.7600\n",
            "Epoch 8/30\n",
            "1563/1563 [==============================] - 147s 94ms/step - loss: 0.6466 - accuracy: 0.7712\n",
            "Epoch 9/30\n",
            "1563/1563 [==============================] - 146s 93ms/step - loss: 0.6104 - accuracy: 0.7856\n",
            "Epoch 10/30\n",
            "1563/1563 [==============================] - 143s 92ms/step - loss: 0.5808 - accuracy: 0.7953\n",
            "Epoch 11/30\n",
            "1563/1563 [==============================] - 142s 91ms/step - loss: 0.5528 - accuracy: 0.8036\n",
            "Epoch 12/30\n",
            "1563/1563 [==============================] - 143s 92ms/step - loss: 0.5315 - accuracy: 0.8112\n",
            "Epoch 13/30\n",
            "1563/1563 [==============================] - 145s 93ms/step - loss: 0.5056 - accuracy: 0.8203\n",
            "Epoch 14/30\n",
            "1563/1563 [==============================] - 145s 93ms/step - loss: 0.4871 - accuracy: 0.8279\n",
            "Epoch 15/30\n",
            "1563/1563 [==============================] - 145s 93ms/step - loss: 0.4688 - accuracy: 0.8329\n",
            "Epoch 16/30\n",
            "1563/1563 [==============================] - 144s 92ms/step - loss: 0.4521 - accuracy: 0.8395\n",
            "Epoch 17/30\n",
            "1563/1563 [==============================] - 145s 92ms/step - loss: 0.4297 - accuracy: 0.8474\n",
            "Epoch 18/30\n",
            "1563/1563 [==============================] - 147s 94ms/step - loss: 0.4187 - accuracy: 0.8501\n",
            "Epoch 19/30\n",
            "1563/1563 [==============================] - 147s 94ms/step - loss: 0.4003 - accuracy: 0.8580\n",
            "Epoch 20/30\n",
            "1563/1563 [==============================] - 146s 93ms/step - loss: 0.3898 - accuracy: 0.8594\n",
            "Epoch 21/30\n",
            "1563/1563 [==============================] - 146s 93ms/step - loss: 0.3686 - accuracy: 0.8674\n",
            "Epoch 22/30\n",
            "1563/1563 [==============================] - 145s 93ms/step - loss: 0.3619 - accuracy: 0.8706\n",
            "Epoch 23/30\n",
            "1563/1563 [==============================] - 147s 94ms/step - loss: 0.3575 - accuracy: 0.8732\n",
            "Epoch 24/30\n",
            "1563/1563 [==============================] - 146s 93ms/step - loss: 0.3418 - accuracy: 0.8777\n",
            "Epoch 25/30\n",
            "1563/1563 [==============================] - 145s 93ms/step - loss: 0.3343 - accuracy: 0.8808\n",
            "Epoch 26/30\n",
            "1563/1563 [==============================] - 145s 93ms/step - loss: 0.3218 - accuracy: 0.8846\n",
            "Epoch 27/30\n",
            "1563/1563 [==============================] - 144s 92ms/step - loss: 0.3178 - accuracy: 0.8854\n",
            "Epoch 28/30\n",
            "1563/1563 [==============================] - 144s 92ms/step - loss: 0.3127 - accuracy: 0.8891\n",
            "Epoch 29/30\n",
            "1563/1563 [==============================] - 144s 92ms/step - loss: 0.3040 - accuracy: 0.8901\n",
            "Epoch 30/30\n",
            "1563/1563 [==============================] - 144s 92ms/step - loss: 0.2914 - accuracy: 0.8943\n"
          ]
        }
      ]
    },
    {
      "cell_type": "code",
      "source": [
        "model2.evaluate(x_test, y_test)"
      ],
      "metadata": {
        "colab": {
          "base_uri": "https://localhost:8080/"
        },
        "id": "qLfzbnloU59J",
        "outputId": "6a66e9c6-41a9-41e8-9eeb-9d48c02567a9"
      },
      "execution_count": null,
      "outputs": [
        {
          "output_type": "stream",
          "name": "stdout",
          "text": [
            "313/313 [==============================] - 7s 23ms/step - loss: 1.1073 - accuracy: 0.7328\n"
          ]
        },
        {
          "output_type": "execute_result",
          "data": {
            "text/plain": [
              "[1.1072711944580078, 0.7328000068664551]"
            ]
          },
          "metadata": {},
          "execution_count": 19
        }
      ]
    },
    {
      "cell_type": "code",
      "source": [
        "y_probs = model2.predict(x_test)"
      ],
      "metadata": {
        "colab": {
          "base_uri": "https://localhost:8080/"
        },
        "id": "gXyFq8KLhTmt",
        "outputId": "5808a5e9-dcf6-4882-9c09-3b95935399a5"
      },
      "execution_count": null,
      "outputs": [
        {
          "output_type": "stream",
          "name": "stdout",
          "text": [
            "313/313 [==============================] - 7s 23ms/step\n"
          ]
        }
      ]
    },
    {
      "cell_type": "code",
      "source": [
        "y_probs[0], tf.argmax(y_probs[0])"
      ],
      "metadata": {
        "colab": {
          "base_uri": "https://localhost:8080/"
        },
        "id": "eS0WiHU-ha9W",
        "outputId": "59472e92-bdda-4c1b-d957-94a4d8dac5d4"
      },
      "execution_count": null,
      "outputs": [
        {
          "output_type": "execute_result",
          "data": {
            "text/plain": [
              "(array([1.55529135e-03, 1.12051405e-02, 1.18813268e-03, 4.26128566e-01,\n",
              "        4.35641006e-04, 5.47382474e-01, 9.65870917e-03, 1.30756875e-04,\n",
              "        2.02639028e-03, 2.88823241e-04], dtype=float32),\n",
              " <tf.Tensor: shape=(), dtype=int64, numpy=5>)"
            ]
          },
          "metadata": {},
          "execution_count": 21
        }
      ]
    },
    {
      "cell_type": "code",
      "source": [
        "y_preds = y_probs.argmax(axis=1)"
      ],
      "metadata": {
        "id": "DvpBsnyghguX"
      },
      "execution_count": null,
      "outputs": []
    },
    {
      "cell_type": "code",
      "source": [
        "y_probs[0], y_preds[0]"
      ],
      "metadata": {
        "colab": {
          "base_uri": "https://localhost:8080/"
        },
        "id": "A-06r_6ah-0p",
        "outputId": "4346a2da-6df2-4f50-e61a-14d1b2711f0a"
      },
      "execution_count": null,
      "outputs": [
        {
          "output_type": "execute_result",
          "data": {
            "text/plain": [
              "(array([1.55529135e-03, 1.12051405e-02, 1.18813268e-03, 4.26128566e-01,\n",
              "        4.35641006e-04, 5.47382474e-01, 9.65870917e-03, 1.30756875e-04,\n",
              "        2.02639028e-03, 2.88823241e-04], dtype=float32),\n",
              " 5)"
            ]
          },
          "metadata": {},
          "execution_count": 23
        }
      ]
    },
    {
      "cell_type": "code",
      "source": [
        "import pandas as pd\n",
        "\n",
        "pd.DataFrame(history2.history).plot()"
      ],
      "metadata": {
        "colab": {
          "base_uri": "https://localhost:8080/",
          "height": 447
        },
        "id": "Qocr3fZUiB4U",
        "outputId": "527b5aa3-55f0-4724-a69a-296de434fdcd"
      },
      "execution_count": null,
      "outputs": [
        {
          "output_type": "execute_result",
          "data": {
            "text/plain": [
              "<Axes: >"
            ]
          },
          "metadata": {},
          "execution_count": 24
        },
        {
          "output_type": "display_data",
          "data": {
            "text/plain": [
              "<Figure size 640x480 with 1 Axes>"
            ],
            "image/png": "[encoded data removed]"
          },
          "metadata": {}
        }
      ]
    },
    {
      "cell_type": "code",
      "source": [
        "import random\n",
        "\n",
        "def plot_image(model, images, true_labels, classes):\n",
        "  i = random.randint(0, len(images))\n",
        "\n",
        "  target_image = images[i]\n",
        "  y_probs = model.predict(target_image.reshape(1, 32,32,3))\n",
        "  y_preds = y_probs.argmax()\n",
        "\n",
        "  pred_label = classes[y_probs.argmax()]\n",
        "  tt = np.squeeze(true_labels)\n",
        "  tt = tt.astype(\"int\")\n",
        "  true_label = classes[tt[i]]\n",
        "\n",
        "  plt.imshow(target_image)\n",
        "\n",
        "  if pred_label == true_label:\n",
        "    color=\"green\"\n",
        "  else:\n",
        "    color = \"red\"\n",
        "\n",
        "  plt.xlabel(\"Pred: {} True: {}\".format(pred_label, true_label), color=color)\n",
        "\n"
      ],
      "metadata": {
        "id": "oad1fb7QiMem"
      },
      "execution_count": null,
      "outputs": []
    },
    {
      "cell_type": "code",
      "source": [
        "plot_image(model = model2, images = x_test, true_labels=y_test, classes=classes)"
      ],
      "metadata": {
        "colab": {
          "base_uri": "https://localhost:8080/",
          "height": 466
        },
        "id": "Xs3JzzPhj4kk",
        "outputId": "e24718ae-7679-4baa-b388-2c1e450f30cd"
      },
      "execution_count": null,
      "outputs": [
        {
          "output_type": "stream",
          "name": "stdout",
          "text": [
            "1/1 [==============================] - 0s 17ms/step\n"
          ]
        },
        {
          "output_type": "display_data",
          "data": {
            "text/plain": [
              "<Figure size 640x480 with 1 Axes>"
            ],
            "image/png": "[encoded data removed]"
          },
          "metadata": {}
        }
      ]
    },
    {
      "cell_type": "code",
      "source": [],
      "metadata": {
        "id": "WLnH2T6bj-e2"
      },
      "execution_count": null,
      "outputs": []
    }
  ]
}